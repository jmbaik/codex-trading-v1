{
 "cells": [
  {
   "cell_type": "code",
   "execution_count": 2,
   "outputs": [],
   "source": [
    "from std import CodexApi"
   ],
   "metadata": {
    "collapsed": false,
    "pycharm": {
     "name": "#%%\n"
    }
   }
  },
  {
   "cell_type": "code",
   "execution_count": 3,
   "outputs": [],
   "source": [
    "codex = CodexApi.Codex()"
   ],
   "metadata": {
    "collapsed": false,
    "pycharm": {
     "name": "#%%\n"
    }
   }
  },
  {
   "cell_type": "code",
   "execution_count": 4,
   "outputs": [],
   "source": [
    "codex.mk_codex_m1()"
   ],
   "metadata": {
    "collapsed": false,
    "pycharm": {
     "name": "#%%\n"
    }
   }
  },
  {
   "cell_type": "code",
   "execution_count": 5,
   "outputs": [],
   "source": [
    "codex.calc_close_high_list()"
   ],
   "metadata": {
    "collapsed": false,
    "pycharm": {
     "name": "#%%\n"
    }
   }
  },
  {
   "cell_type": "code",
   "execution_count": 6,
   "outputs": [
    {
     "data": {
      "text/plain": "              name        gap\ncode                         \na388050       지투파워  30.000000\na005010        휴스틸  29.922136\na272110      케이엔제이  21.524664\na138070      신진에스엠  20.291616\na376180       피코그램  15.860735\n...            ...        ...\na007770       한일화학   2.020202\na130500      GH신소재   2.016129\na024120     KB오토시스   2.010969\na194370  제이에스코퍼레이션   2.005731\na009180    한솔로지스틱스   2.005731\n\n[351 rows x 2 columns]",
      "text/html": "<div>\n<style scoped>\n    .dataframe tbody tr th:only-of-type {\n        vertical-align: middle;\n    }\n\n    .dataframe tbody tr th {\n        vertical-align: top;\n    }\n\n    .dataframe thead th {\n        text-align: right;\n    }\n</style>\n<table border=\"1\" class=\"dataframe\">\n  <thead>\n    <tr style=\"text-align: right;\">\n      <th></th>\n      <th>name</th>\n      <th>gap</th>\n    </tr>\n    <tr>\n      <th>code</th>\n      <th></th>\n      <th></th>\n    </tr>\n  </thead>\n  <tbody>\n    <tr>\n      <th>a388050</th>\n      <td>지투파워</td>\n      <td>30.000000</td>\n    </tr>\n    <tr>\n      <th>a005010</th>\n      <td>휴스틸</td>\n      <td>29.922136</td>\n    </tr>\n    <tr>\n      <th>a272110</th>\n      <td>케이엔제이</td>\n      <td>21.524664</td>\n    </tr>\n    <tr>\n      <th>a138070</th>\n      <td>신진에스엠</td>\n      <td>20.291616</td>\n    </tr>\n    <tr>\n      <th>a376180</th>\n      <td>피코그램</td>\n      <td>15.860735</td>\n    </tr>\n    <tr>\n      <th>...</th>\n      <td>...</td>\n      <td>...</td>\n    </tr>\n    <tr>\n      <th>a007770</th>\n      <td>한일화학</td>\n      <td>2.020202</td>\n    </tr>\n    <tr>\n      <th>a130500</th>\n      <td>GH신소재</td>\n      <td>2.016129</td>\n    </tr>\n    <tr>\n      <th>a024120</th>\n      <td>KB오토시스</td>\n      <td>2.010969</td>\n    </tr>\n    <tr>\n      <th>a194370</th>\n      <td>제이에스코퍼레이션</td>\n      <td>2.005731</td>\n    </tr>\n    <tr>\n      <th>a009180</th>\n      <td>한솔로지스틱스</td>\n      <td>2.005731</td>\n    </tr>\n  </tbody>\n</table>\n<p>351 rows × 2 columns</p>\n</div>"
     },
     "execution_count": 6,
     "metadata": {},
     "output_type": "execute_result"
    }
   ],
   "source": [
    "codex.df_sim_high"
   ],
   "metadata": {
    "collapsed": false,
    "pycharm": {
     "name": "#%%\n"
    }
   }
  },
  {
   "cell_type": "code",
   "execution_count": null,
   "outputs": [],
   "source": [],
   "metadata": {
    "collapsed": false,
    "pycharm": {
     "name": "#%%\n"
    }
   }
  }
 ],
 "metadata": {
  "kernelspec": {
   "name": "py38trade",
   "language": "python",
   "display_name": "py38trade"
  },
  "language_info": {
   "codemirror_mode": {
    "name": "ipython",
    "version": 2
   },
   "file_extension": ".py",
   "mimetype": "text/x-python",
   "name": "python",
   "nbconvert_exporter": "python",
   "pygments_lexer": "ipython2",
   "version": "2.7.6"
  }
 },
 "nbformat": 4,
 "nbformat_minor": 0
}